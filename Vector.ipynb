{
 "cells": [
  {
   "cell_type": "code",
   "execution_count": 2,
   "metadata": {
    "collapsed": false
   },
   "outputs": [],
   "source": [
    "import math\n",
    "\n",
    "\n",
    "class Vector:\n",
    "    \n",
    "    \n",
    "    def __init__(self,coord):\n",
    "        self.c = coord\n",
    "    \n",
    "    \n",
    "    def __str__(self):\n",
    "        text = \"\"\n",
    "        for x in self.c:\n",
    "            text += \",{:7.3f}\".format(x)\n",
    "            text = text.strip(\",\")\n",
    "        return \"({})\".format(text.strip(\" \"))\n",
    "    \n",
    "    \n",
    "    def magnitude(self):\n",
    "        return math.sqrt(math.fsum([number**2 for number in self.c ]))\n",
    "   \n",
    "\n",
    "    def direction(self):\n",
    "        if self.magnitude() == 0:\n",
    "            print(\"Zero vector\")\n",
    "        else:\n",
    "            return Vector([ (1/self.magnitude()) * c for c in self.c])\n",
    "        "
   ]
  },
  {
   "cell_type": "code",
   "execution_count": 34,
   "metadata": {
    "collapsed": false
   },
   "outputs": [],
   "source": [
    "#Modulo de funciones para operar vectores\n",
    "import math\n",
    "\n",
    "\n",
    "def sum(a,b):\n",
    "#Suma\n",
    "    try:\n",
    "        \n",
    "        c = list(map(lambda x,y:x+y,a.c,b.c))\n",
    "    \n",
    "        return Vector(c)\n",
    "    \n",
    "    except Exception as e:\n",
    "            \n",
    "        print(type(e).__name__)\n",
    "\n",
    "            \n",
    "            \n",
    "def subs(a,b):\n",
    "#Resta de vectores  \n",
    "    try:\n",
    "\n",
    "        c = list(map(lambda x,y:x-y,a.c,b.c))\n",
    "        \n",
    "        return Vector(c)\n",
    "    \n",
    "    except Exception as e:\n",
    "          \n",
    "        print(type(e).__name__)\n",
    "\n",
    "\n",
    "def multiply(a,b):\n",
    "#b es el escalar por el cual se va a multiplicar el vector    \n",
    "    c = [r*b for r in a.c]\n",
    "    \n",
    "    return Vector(c)\n",
    "\n",
    "\n",
    "def dot(a,b):\n",
    "    \n",
    "    if a.magnitude() == 0 or b.magnitude() == 0:\n",
    "        \n",
    "        print(\"Zero Vector\")\n",
    "    \n",
    "    else:\n",
    "        \n",
    "        return math.fsum(map(lambda x,y:x*y,a.c,b.c))\n",
    "            \n",
    "    \n",
    "def angle(a,b,ang):\n",
    "    \n",
    "    if a.magnitude() == 0 or b.magnitude() == 0:\n",
    "    \n",
    "        print(\"Zero Vector\")\n",
    "    \n",
    "    else:\n",
    "        \n",
    "        angle = math.acos((dot(a,b)/(a.magnitude() * b.magnitude())))\n",
    "        \n",
    "        if ang == \"r\" or ang == None:\n",
    "        \n",
    "            return angle\n",
    "        \n",
    "        if ang == \"deg\":\n",
    "        \n",
    "            return math.degrees(angle)\n",
    "        \n",
    "        else:\n",
    "            \n",
    "            print(\"El ultimo argumento debe ser 'r' para radianes 'deg' para grados\")\n",
    "            \n",
    "            \n",
    "def projection(a,b):\n",
    "#Proyeccion a el vector \"a\" sobre el Vector \"b\"\n",
    "#\"p\" es el vector paralelo a \"b\"\n",
    "    p = multiply(b.direction(),dot(a,b.direction()))\n",
    "    return p\n",
    "\n",
    "\n",
    "def orthogonal(a,b):\n",
    "#Regresa el la componente de \"a\" que es ortogonal a \"b\"\n",
    "    ort = subs(a,projection(a,b))\n",
    "    return ort\n",
    "\n",
    "\n",
    "def cross(a,b):\n",
    "    c = [0,0,0]\n",
    "    \n",
    "    c[0] = a.c[1]*b.c[2] - b.c[1]*a.c[2]\n",
    "    \n",
    "    c[1] = -1*(a.c[0]*b.c[2]-b.c[0]*a.c[2])\n",
    "    \n",
    "    c[2] = a.c[0]*b.c[1] - a.c[1]*b.c[0]\n",
    "    \n",
    "    return Vector(c)"
   ]
  },
  {
   "cell_type": "code",
   "execution_count": 35,
   "metadata": {
    "collapsed": false
   },
   "outputs": [
    {
     "name": "stdout",
     "output_type": "stream",
     "text": [
      "(7.089, -7.230)\n"
     ]
    }
   ],
   "source": [
    "v = Vector([8.218,-9.341,])\n",
    "b = Vector([-1.129,2.111])\n",
    "print(sum(v,b))\n"
   ]
  },
  {
   "cell_type": "code",
   "execution_count": 36,
   "metadata": {
    "collapsed": false
   },
   "outputs": [
    {
     "name": "stdout",
     "output_type": "stream",
     "text": [
      "(15.342,  7.337)\n"
     ]
    }
   ],
   "source": [
    "v = Vector([7.119,8.215])\n",
    "b = Vector([-8.223,0.878])\n",
    "print(subs(v,b))"
   ]
  },
  {
   "cell_type": "code",
   "execution_count": 37,
   "metadata": {
    "collapsed": false
   },
   "outputs": [
    {
     "name": "stdout",
     "output_type": "stream",
     "text": [
      "(12.382, -7.499, -2.356)\n"
     ]
    }
   ],
   "source": [
    "v = Vector([1.671,-1.012,-0.318])\n",
    "b = 7.41\n",
    "print(multiply(v,b))"
   ]
  },
  {
   "cell_type": "code",
   "execution_count": 38,
   "metadata": {
    "collapsed": false
   },
   "outputs": [
    {
     "data": {
      "text/plain": [
       "7.440282924728065"
      ]
     },
     "execution_count": 38,
     "metadata": {},
     "output_type": "execute_result"
    }
   ],
   "source": [
    "v = Vector([-0.221,7.437])\n",
    "v.magnitude()"
   ]
  },
  {
   "cell_type": "code",
   "execution_count": 39,
   "metadata": {
    "collapsed": false
   },
   "outputs": [
    {
     "data": {
      "text/plain": [
       "10.884187567292289"
      ]
     },
     "execution_count": 39,
     "metadata": {},
     "output_type": "execute_result"
    }
   ],
   "source": [
    "v = Vector([8.813,-1.331,-6.247])\n",
    "v.magnitude()"
   ]
  },
  {
   "cell_type": "code",
   "execution_count": 40,
   "metadata": {
    "collapsed": false
   },
   "outputs": [
    {
     "name": "stdout",
     "output_type": "stream",
     "text": [
      "(0.934, -0.357)\n"
     ]
    }
   ],
   "source": [
    "v = Vector([5.581,-2.136])\n",
    "print(v.direction())"
   ]
  },
  {
   "cell_type": "code",
   "execution_count": 41,
   "metadata": {
    "collapsed": false
   },
   "outputs": [
    {
     "name": "stdout",
     "output_type": "stream",
     "text": [
      "(0.340,  0.530, -0.777)\n"
     ]
    }
   ],
   "source": [
    "v = Vector([1.996,3.108,-4.554])\n",
    "print(v.direction())"
   ]
  },
  {
   "cell_type": "code",
   "execution_count": 42,
   "metadata": {
    "collapsed": false
   },
   "outputs": [
    {
     "data": {
      "text/plain": [
       "-41.382286"
      ]
     },
     "execution_count": 42,
     "metadata": {},
     "output_type": "execute_result"
    }
   ],
   "source": [
    "v = Vector([7.887,4.138])\n",
    "b = Vector([-8.802,6.776])\n",
    "dot(v,b)"
   ]
  },
  {
   "cell_type": "code",
   "execution_count": 43,
   "metadata": {
    "collapsed": false
   },
   "outputs": [
    {
     "data": {
      "text/plain": [
       "56.39717800000001"
      ]
     },
     "execution_count": 43,
     "metadata": {},
     "output_type": "execute_result"
    }
   ],
   "source": [
    "v = Vector([-5.955,-4.904,-1.874])\n",
    "b = Vector([-4.496,-8.755,7.103])\n",
    "dot(v,b)"
   ]
  },
  {
   "cell_type": "code",
   "execution_count": 44,
   "metadata": {
    "collapsed": false
   },
   "outputs": [
    {
     "data": {
      "text/plain": [
       "3.0720263098372476"
      ]
     },
     "execution_count": 44,
     "metadata": {},
     "output_type": "execute_result"
    }
   ],
   "source": [
    "v = Vector([3.183,-7.627])\n",
    "b = Vector([-2.668,5.319])\n",
    "angle(v,b,\"r\")"
   ]
  },
  {
   "cell_type": "code",
   "execution_count": 45,
   "metadata": {
    "collapsed": false
   },
   "outputs": [
    {
     "data": {
      "text/plain": [
       "60.27581120523091"
      ]
     },
     "execution_count": 45,
     "metadata": {},
     "output_type": "execute_result"
    }
   ],
   "source": [
    "v = Vector([7.35,0.221,5.188])\n",
    "b = Vector([2.751,8.259,3.985])\n",
    "angle(v,b,\"deg\")"
   ]
  },
  {
   "cell_type": "code",
   "execution_count": 46,
   "metadata": {
    "collapsed": false
   },
   "outputs": [
    {
     "data": {
      "text/plain": [
       "90.0"
      ]
     },
     "execution_count": 46,
     "metadata": {},
     "output_type": "execute_result"
    }
   ],
   "source": [
    "v = Vector([-2.328,-7.284,-1.214])\n",
    "b = Vector([-1.821,1.072,-2.94])\n",
    "angle(v,b,\"deg\")"
   ]
  },
  {
   "cell_type": "code",
   "execution_count": 47,
   "metadata": {
    "collapsed": false
   },
   "outputs": [
    {
     "name": "stdout",
     "output_type": "stream",
     "text": [
      "(1.083,  2.672)\n"
     ]
    }
   ],
   "source": [
    "a = Vector([3.039,1.879])\n",
    "b= Vector([0.825,2.036])\n",
    "print(projection(a,b))"
   ]
  },
  {
   "cell_type": "code",
   "execution_count": 48,
   "metadata": {
    "collapsed": false
   },
   "outputs": [
    {
     "name": "stdout",
     "output_type": "stream",
     "text": [
      "(-8.350,  3.376, -1.434)\n"
     ]
    }
   ],
   "source": [
    "a = Vector([-9.88,-3.264,-8.159])\n",
    "b= Vector([-2.155,-9.353,-9.473])\n",
    "print(orthogonal(a,b))"
   ]
  },
  {
   "cell_type": "code",
   "execution_count": 49,
   "metadata": {
    "collapsed": false
   },
   "outputs": [
    {
     "name": "stdout",
     "output_type": "stream",
     "text": [
      "(1.969, -2.811,  0.848,  2.680)\n",
      "(1.040, -3.361,  2.844, -5.190)\n"
     ]
    }
   ],
   "source": [
    "a = Vector([3.009,-6.172,3.692,-2.51])\n",
    "b= Vector([6.404,-9.144,2.759,8.718])\n",
    "print(projection(a,b))\n",
    "print(orthogonal(a,b))"
   ]
  },
  {
   "cell_type": "code",
   "execution_count": 50,
   "metadata": {
    "collapsed": false
   },
   "outputs": [
    {
     "name": "stdout",
     "output_type": "stream",
     "text": [
      "(-11.205,-97.609,-105.685)\n"
     ]
    }
   ],
   "source": [
    "v = Vector([8.462,7.893,-8.187])\n",
    "w = Vector([6.984,-5.975,4.778])\n",
    "\n",
    "print(cross(v,w))"
   ]
  },
  {
   "cell_type": "code",
   "execution_count": 52,
   "metadata": {
    "collapsed": false
   },
   "outputs": [
    {
     "name": "stdout",
     "output_type": "stream",
     "text": [
      "142.12222140184633\n"
     ]
    }
   ],
   "source": [
    "v = Vector([-8.987,-9.838,5.031])\n",
    "w = Vector([-4.268,-1.861,-8.866])\n",
    "\n",
    "print(cross(v,w).magnitude())"
   ]
  },
  {
   "cell_type": "code",
   "execution_count": 53,
   "metadata": {
    "collapsed": false
   },
   "outputs": [
    {
     "name": "stdout",
     "output_type": "stream",
     "text": [
      "42.56493739941894\n"
     ]
    }
   ],
   "source": [
    "v = Vector([1.5,9.547,3.691])\n",
    "w = Vector([-6.007,0.124,5.772])\n",
    "\n",
    "print((cross(v,w).magnitude())/2)"
   ]
  },
  {
   "cell_type": "code",
   "execution_count": null,
   "metadata": {
    "collapsed": true
   },
   "outputs": [],
   "source": []
  }
 ],
 "metadata": {
  "kernelspec": {
   "display_name": "Python 3",
   "language": "python",
   "name": "python3"
  },
  "language_info": {
   "codemirror_mode": {
    "name": "ipython",
    "version": 3
   },
   "file_extension": ".py",
   "mimetype": "text/x-python",
   "name": "python",
   "nbconvert_exporter": "python",
   "pygments_lexer": "ipython3",
   "version": "3.6.0"
  }
 },
 "nbformat": 4,
 "nbformat_minor": 2
}
